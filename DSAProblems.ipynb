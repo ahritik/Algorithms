{
  "nbformat": 4,
  "nbformat_minor": 0,
  "metadata": {
    "colab": {
      "name": "DSAProblems.ipynb",
      "provenance": [],
      "collapsed_sections": [],
      "authorship_tag": "ABX9TyPyIUXJtfdaeKvn9Bvn0J2J",
      "include_colab_link": true
    },
    "kernelspec": {
      "name": "python3",
      "display_name": "Python 3"
    }
  },
  "cells": [
    {
      "cell_type": "markdown",
      "metadata": {
        "id": "view-in-github",
        "colab_type": "text"
      },
      "source": [
        "<a href=\"https://colab.research.google.com/github/ahritik/Algorithms/blob/master/DSAProblems.ipynb\" target=\"_parent\"><img src=\"https://colab.research.google.com/assets/colab-badge.svg\" alt=\"Open In Colab\"/></a>"
      ]
    },
    {
      "cell_type": "markdown",
      "metadata": {
        "id": "WtbsZTi1w2Tq",
        "colab_type": "text"
      },
      "source": [
        "##DSA Questions\n",
        "####Questions that take advantage of Data Structures and Algorithms and are frequently asked in Interviews"
      ]
    },
    {
      "cell_type": "markdown",
      "metadata": {
        "id": "MFXFjomByMqB",
        "colab_type": "text"
      },
      "source": [
        "Find the column of the leftmost 1 in the array"
      ]
    },
    {
      "cell_type": "code",
      "metadata": {
        "id": "GXPCRXxHWCvK",
        "colab_type": "code",
        "colab": {}
      },
      "source": [
        "inputList = [[0,0,1,0],\n",
        "             [0,0,0,0],\n",
        "             [0,0,0,0],\n",
        "             [0,0,0,0],\n",
        "             [0,0,0,0]]"
      ],
      "execution_count": null,
      "outputs": []
    },
    {
      "cell_type": "code",
      "metadata": {
        "id": "QcCIHAdIWVRE",
        "colab_type": "code",
        "colab": {}
      },
      "source": [
        "def leftmostIndex(inputList):\n",
        "    leftIndex = len(inputList[0])\n",
        "\n",
        "    # goes through each row one by one\n",
        "    for row in inputList:\n",
        "        if(sum(row) == 0):\n",
        "            continue\n",
        "        for i in range(leftIndex):\n",
        "            if row[i] != 0:\n",
        "                leftIndex = i\n",
        "                break\n",
        "    # return -1 if there were no 0's found\n",
        "    if leftIndex == len(inputList[0]):\n",
        "        return -1\n",
        "    return leftIndex"
      ],
      "execution_count": null,
      "outputs": []
    },
    {
      "cell_type": "code",
      "metadata": {
        "id": "PG63l4u1XHz2",
        "colab_type": "code",
        "colab": {
          "base_uri": "https://localhost:8080/",
          "height": 34
        },
        "outputId": "21f3d38d-0d20-46e8-e538-99d35e043f51"
      },
      "source": [
        "leftmostIndex(inputList)"
      ],
      "execution_count": null,
      "outputs": [
        {
          "output_type": "execute_result",
          "data": {
            "text/plain": [
              "2"
            ]
          },
          "metadata": {
            "tags": []
          },
          "execution_count": 4
        }
      ]
    },
    {
      "cell_type": "markdown",
      "metadata": {
        "id": "GsSIpGCXyb0X",
        "colab_type": "text"
      },
      "source": [
        "Finds if the given string is a palindrome, ignoring all non-alphanumeric characters "
      ]
    },
    {
      "cell_type": "code",
      "metadata": {
        "id": "QUmFFz8wRBoR",
        "colab_type": "code",
        "colab": {}
      },
      "source": [
        "def isPalindrome(inputString):\n",
        "    # checks if the inputString is usable\n",
        "    if inputString is None or inputString == '' or len(inputString) == 1:\n",
        "        return True\n",
        "    # converts the entire string to lowercase\n",
        "    inputString = inputString.lower()\n",
        "\n",
        "    # starting from the beginnning and the end\n",
        "    endIndex = len(inputString)-1\n",
        "    for startIndex in range(len(inputString)):\n",
        "        # if the ending character isn't an alphanumeric character, skip it\n",
        "        while not isAlphanumeric(inputString[endIndex]):\n",
        "            endIndex -= 1\n",
        "        # if the beginning character is not alphanumeric, skip\n",
        "        if not isAlphanumeric(inputString[startIndex]):\n",
        "            continue\n",
        "        # if the two corresponding characters aren't equal, return false\n",
        "        if inputString[startIndex] != inputString[endIndex]:\n",
        "            return False\n",
        "        endIndex -= 1\n",
        "        # if the end index is greater than the beginning, exit the loop\n",
        "        if endIndex < startIndex:\n",
        "            break\n",
        "    return True\n",
        "\n",
        "# custom function to check if the character is a number or a letter\n",
        "def isAlphanumeric(char):\n",
        "    return char.isdigit() or char.isalpha()"
      ],
      "execution_count": null,
      "outputs": []
    },
    {
      "cell_type": "code",
      "metadata": {
        "id": "vPwqL4VmSQNh",
        "colab_type": "code",
        "colab": {
          "base_uri": "https://localhost:8080/",
          "height": 119
        },
        "outputId": "cde3adb2-bfed-4940-fafb-f124cd169f42"
      },
      "source": [
        "testCases = ['racecare', 'racecar', 'race a car',\n",
        "             'Able was I ere I saw Elba',\n",
        "             \"Madam, I'm Adam\", 'Never odd or even.']\n",
        "\n",
        "for case in testCases:\n",
        "    print(case,isPalindrome(case))"
      ],
      "execution_count": null,
      "outputs": [
        {
          "output_type": "stream",
          "text": [
            "racecare False\n",
            "racecar True\n",
            "race a car False\n",
            "Able was I ere I saw Elba True\n",
            "Madam, I'm Adam True\n",
            "Never odd or even. True\n"
          ],
          "name": "stdout"
        }
      ]
    },
    {
      "cell_type": "markdown",
      "metadata": {
        "id": "gAZty0V8yof9",
        "colab_type": "text"
      },
      "source": [
        "Creates a Sorted list with n arrays"
      ]
    },
    {
      "cell_type": "code",
      "metadata": {
        "id": "ajash-fsSlaH",
        "colab_type": "code",
        "colab": {}
      },
      "source": [
        "class sortedList:\n",
        "    # holds all of the values\n",
        "    numbers = []\n",
        "\n",
        "    # finds the array and value with the smallest beginning\n",
        "    def _minStart(self, arrays):\n",
        "        minIndex = 0\n",
        "        for i in range(len(arrays)):\n",
        "            if arrays[i][0] < arrays[minIndex][0]:\n",
        "                minIndex = i\n",
        "        min = arrays[minIndex].pop(0)\n",
        "        return min, arrays\n",
        "    \n",
        "    # initializes a sortedList object and orders the list with the given arrays\n",
        "    def __init__(self, **arrays):\n",
        "        arrays = list(arrays.values())\n",
        "        while len(arrays) > 0:\n",
        "            min, arrays = self._minStart(arrays)\n",
        "            self.numbers.append(min)\n",
        "            arrays = [array for array in arrays if len(array) > 0]\n",
        "        self.index = 0\n",
        "    \n",
        "    # custom next function\n",
        "    def next(self):\n",
        "        self.index += 1\n",
        "        return self.numbers[self.index-1]\n",
        "        \n",
        "    # checks if the index can go on the the next value\n",
        "    def hasNext(self):\n",
        "        return self.index != len(self.numbers)"
      ],
      "execution_count": null,
      "outputs": []
    },
    {
      "cell_type": "code",
      "metadata": {
        "id": "onmCTiLFWIIv",
        "colab_type": "code",
        "colab": {
          "base_uri": "https://localhost:8080/",
          "height": 238
        },
        "outputId": "1c64c62f-086d-415d-d859-c8b43f7e87aa"
      },
      "source": [
        "list1 = [4,13,17,21,85,93]\n",
        "list2 = [2,9]\n",
        "list3 = [1,5,7,18,33]\n",
        "\n",
        "newList = sortedList(list1 = [4,13,17,21,85,93],\n",
        "                    list2 = [2,9],\n",
        "                    list3 = [1,5,7,18,33])\n",
        "\n",
        "while newList.hasNext():\n",
        "    print(newList.next())"
      ],
      "execution_count": null,
      "outputs": [
        {
          "output_type": "stream",
          "text": [
            "1\n",
            "2\n",
            "4\n",
            "5\n",
            "7\n",
            "9\n",
            "13\n",
            "17\n",
            "18\n",
            "21\n",
            "33\n",
            "85\n",
            "93\n"
          ],
          "name": "stdout"
        }
      ]
    },
    {
      "cell_type": "markdown",
      "metadata": {
        "id": "PWwVhXtRZCdg",
        "colab_type": "text"
      },
      "source": [
        "Removes all the values in a Linked List of Value v"
      ]
    },
    {
      "cell_type": "code",
      "metadata": {
        "id": "scjuJU5-hvX6",
        "colab_type": "code",
        "colab": {}
      },
      "source": [
        "# simple Node class\n",
        "class Node:\n",
        "    def __init__(self, dataval=None):\n",
        "        self.dataval = dataval\n",
        "        self.nextval = None\n",
        "\n",
        "# simple LinkedList class\n",
        "class LinkedList:\n",
        "    def __init__(self):\n",
        "        self.headval = None\n",
        "\n",
        "    def listprint(self):\n",
        "        printval = self.headval\n",
        "        while printval is not None:\n",
        "            print (printval.dataval,' ',end='')\n",
        "            printval = printval.nextval\n",
        "        print()"
      ],
      "execution_count": null,
      "outputs": []
    },
    {
      "cell_type": "code",
      "metadata": {
        "id": "RLJ4-GJSntPC",
        "colab_type": "code",
        "colab": {}
      },
      "source": [
        "def removeVal(lList, val):\n",
        "    head = lList.headval\n",
        "    # if the first value is val, then set the new head as the next value until\n",
        "    # it is no longer equal to val\n",
        "    while head.dataval == val:\n",
        "        lList.headval = head.nextval\n",
        "    # until it reaches the end, delete values of val\n",
        "    while head.nextval is not None:\n",
        "        if head.nextval.dataval == val:\n",
        "            head.nextval  = head.nextval.nextval\n",
        "        else:\n",
        "            head = head.nextval"
      ],
      "execution_count": null,
      "outputs": []
    },
    {
      "cell_type": "code",
      "metadata": {
        "id": "mZu1fws37oiq",
        "colab_type": "code",
        "colab": {
          "base_uri": "https://localhost:8080/",
          "height": 85
        },
        "outputId": "f2c95b5f-d7dd-4cb7-de5d-335737aca571"
      },
      "source": [
        "from random import randint\n",
        "\n",
        "testList = LinkedList()\n",
        "testList.headval = Node(0)\n",
        "iterator = testList.headval\n",
        "for i in [randint(0,10) for _ in range(10)]:\n",
        "    iterator.nextval = Node(i)\n",
        "    iterator = iterator.nextval\n",
        "\n",
        "print('The list is:')\n",
        "testList.listprint()\n",
        "remove = randint(0,10)\n",
        "print('All',remove,'will be removed')\n",
        "removeVal(testList,remove)\n",
        "testList.listprint()"
      ],
      "execution_count": null,
      "outputs": [
        {
          "output_type": "stream",
          "text": [
            "The list is:\n",
            "0  7  6  6  5  9  5  1  9  0  8  \n",
            "All 1 will be removed\n",
            "0  7  6  6  5  9  5  9  0  8  \n"
          ],
          "name": "stdout"
        }
      ]
    },
    {
      "cell_type": "markdown",
      "metadata": {
        "id": "X4WtTeslZkr7",
        "colab_type": "text"
      },
      "source": [
        "Finds product of everything except the number in the corresponding index"
      ]
    },
    {
      "cell_type": "code",
      "metadata": {
        "id": "QB7Psn5c1GcG",
        "colab_type": "code",
        "colab": {}
      },
      "source": [
        "# solution where a new list is created\n",
        "def listProductSolution1(inputList):\n",
        "    # makes sure that the input list is usable\n",
        "    length = len(inputList)\n",
        "    if inputList is None or length < 2:\n",
        "        return inputList\n",
        "    \n",
        "    # makes two empty lists\n",
        "    left, right, answer = [0]*length, [0]*length, [0]*length\n",
        "\n",
        "    # sets the first index it will be going over as 0\n",
        "    left[0] = 1\n",
        "    right[length - 1] = 1\n",
        "\n",
        "    # finds the all the left \n",
        "    for i in range(1, length):\n",
        "        left[i] = inputList[i - 1] * left[i - 1]\n",
        "    # finds to the right\n",
        "    for i in reversed(range(length - 1)): \n",
        "        right[i] = inputList[i + 1] * right[i + 1]\n",
        "    \n",
        "    #multiplies the right and left together\n",
        "    for i in range(length):\n",
        "        answer[i] = left[i] * right[i]\n",
        "        \n",
        "    return answer"
      ],
      "execution_count": null,
      "outputs": []
    },
    {
      "cell_type": "code",
      "metadata": {
        "id": "W2ftBHaJGsZj",
        "colab_type": "code",
        "colab": {
          "base_uri": "https://localhost:8080/",
          "height": 170
        },
        "outputId": "dc5180e2-d4eb-4de9-d002-cdb8b4941b95"
      },
      "source": [
        "testCaseLists = [[2,4,6,8],\n",
        "                 [2,3,4,5],\n",
        "                 [1,3,5,7,9]]\n",
        "\n",
        "for case in testCaseLists:\n",
        "     print('The array is',case)\n",
        "     print('The product array is',listProductSolution1(case))\n",
        "     print()"
      ],
      "execution_count": null,
      "outputs": [
        {
          "output_type": "stream",
          "text": [
            "The array is [2, 4, 6, 8]\n",
            "The product array is [192, 96, 64, 48]\n",
            "\n",
            "The array is [2, 3, 4, 5]\n",
            "The product array is [60, 40, 30, 24]\n",
            "\n",
            "The array is [1, 3, 5, 7, 9]\n",
            "The product array is [945, 315, 189, 135, 105]\n",
            "\n"
          ],
          "name": "stdout"
        }
      ]
    },
    {
      "cell_type": "code",
      "metadata": {
        "id": "WNABAEQPXmS1",
        "colab_type": "code",
        "colab": {}
      },
      "source": [
        "# solution where the input list is modified\n",
        "def listProductSolution2(inputList):\n",
        "    # makes sure that the input list is usable\n",
        "    if inputList is None or len(inputList) < 2:\n",
        "        return inputList\n",
        "\n",
        "    # sets the length and the rightmost element as 0\n",
        "    answer = [0]*len(inputList)\n",
        "    answer[0] = 1\n",
        "\n",
        "    # finds all the multiples from the left\n",
        "    for i in range(1, len(inputList)):\n",
        "        answer[i] = inputList[i - 1] * answer[i - 1]\n",
        "    \n",
        "    # finds all of the multiples from the right\n",
        "    rightward = 1\n",
        "    for i in reversed(range(len(inputList))):\n",
        "        answer[i] *= rightward\n",
        "        rightward *= inputList[i]\n",
        "        \n",
        "    return answer"
      ],
      "execution_count": null,
      "outputs": []
    },
    {
      "cell_type": "code",
      "metadata": {
        "id": "6uLlcKndiYud",
        "colab_type": "code",
        "colab": {
          "base_uri": "https://localhost:8080/",
          "height": 170
        },
        "outputId": "8eb1e858-c7b7-4c9d-b0b4-14c0acd1fa60"
      },
      "source": [
        "for case in testCaseLists:\n",
        "     print('The array is',case)\n",
        "     print('The product array is',listProductSolution2(case))\n",
        "     print()"
      ],
      "execution_count": null,
      "outputs": [
        {
          "output_type": "stream",
          "text": [
            "The array is [2, 4, 6, 8]\n",
            "The product array is [192, 96, 64, 48]\n",
            "\n",
            "The array is [2, 3, 4, 5]\n",
            "The product array is [60, 40, 30, 24]\n",
            "\n",
            "The array is [1, 3, 5, 7, 9]\n",
            "The product array is [945, 315, 189, 135, 105]\n",
            "\n"
          ],
          "name": "stdout"
        }
      ]
    },
    {
      "cell_type": "markdown",
      "metadata": {
        "id": "em7gHSZgg514",
        "colab_type": "text"
      },
      "source": [
        "Orders the array of words based on the given alphabet"
      ]
    },
    {
      "cell_type": "code",
      "metadata": {
        "id": "5WdDFjyjo4Kh",
        "colab_type": "code",
        "colab": {}
      },
      "source": [
        "def orderAlienAlphabet(inputArray: list, alphabet: str) -> bool:\n",
        "    # if the alphabet provided isn't the full alphabet, return false\n",
        "    if len(alphabet) != 26:\n",
        "        return False\n",
        "    # from beginning to the 2nd to last element in the list\n",
        "    # (will return True if list is null or empty)\n",
        "    for i in range(len(inputArray)-1):\n",
        "        # checks each word letter by letter for equality\n",
        "        for char1, char2 in zip(inputArray[i],inputArray[i+1]):\n",
        "            if alphabet.index(char1) > alphabet.index(char2):\n",
        "                return False\n",
        "            elif char1 == char2:\n",
        "                continue\n",
        "            break\n",
        "        # if the beginning of the words are equal but the length of the first\n",
        "        # word is longer than the second, the first is greater than the second\n",
        "        if inputArray[i][0] <= inputArray[i+1][0] and \n",
        "            len(inputArray[i]) > len(inputArray[i+1]):\n",
        "            return False\n",
        "    return True"
      ],
      "execution_count": null,
      "outputs": []
    },
    {
      "cell_type": "code",
      "metadata": {
        "id": "ZP0w0tDpK1BB",
        "colab_type": "code",
        "colab": {
          "base_uri": "https://localhost:8080/",
          "height": 221
        },
        "outputId": "2ba4d65d-fd2c-41e5-a890-486bbf1cd6cc"
      },
      "source": [
        "alphabetTestCases = {\"hlabcdefgijkmnopqrstuvwxyz\":[\"hello\",\"leetcode\"],\n",
        "                     \"worldabcefghijkmnpqstuvxyz\":[\"word\",\"world\",\"row\"],\n",
        "                     \"abcdefghijklmnopqrstuvwxyz\":[\"apple\",\"app\"]}\n",
        "\n",
        "for alphabet, array in alphabetTestCases.items():\n",
        "    print('The words are:',array)\n",
        "    print('The alphabet is:',alphabet)\n",
        "    print('The words are ordered:',orderAlienAlphabet(array, alphabet=alphabet))\n",
        "    print()"
      ],
      "execution_count": null,
      "outputs": [
        {
          "output_type": "stream",
          "text": [
            "The words are: ['hello', 'leetcode']\n",
            "The alphabet is: hlabcdefgijkmnopqrstuvwxyz\n",
            "The words are ordered: True\n",
            "\n",
            "The words are: ['word', 'world', 'row']\n",
            "The alphabet is: worldabcefghijkmnpqstuvxyz\n",
            "The words are ordered: False\n",
            "\n",
            "The words are: ['apple', 'app']\n",
            "The alphabet is: abcdefghijklmnopqrstuvwxyz\n",
            "The words are ordered: False\n",
            "\n"
          ],
          "name": "stdout"
        }
      ]
    },
    {
      "cell_type": "markdown",
      "metadata": {
        "id": "8fnp3TMRg_hK",
        "colab_type": "text"
      },
      "source": [
        "All characters that have 3 in a row are automatically gotten rid of"
      ]
    },
    {
      "cell_type": "code",
      "metadata": {
        "id": "R8R8kCFmQFBF",
        "colab_type": "code",
        "colab": {}
      },
      "source": [
        "def candycrushCharacters(inputStr:str) -> str:\n",
        "    # if the input string has 2 or less characters, there can't be chain\n",
        "    if len(inputStr) < 3:\n",
        "        return inputStr\n",
        "    newStr = ''\n",
        "    index = 0\n",
        "    # while the current index is has at least 2 spots ahead of it\n",
        "    while index < len(inputStr)-2:\n",
        "        # if there is a chain of 3, remove that chain\n",
        "        if inputStr[index] == inputStr[index+1] and\\\n",
        "           inputStr[index] == inputStr[index+2]:\n",
        "            inputStr = inputStr[0:index]+inputStr[index+3:]\n",
        "        # if not, add the current letter to the newStr and \n",
        "        else:\n",
        "            newStr += inputStr[index]\n",
        "            index += 1\n",
        "    # add the newStr with the remaining letters in inputStr is there any\n",
        "    return newStr+inputStr[index:]"
      ],
      "execution_count": null,
      "outputs": []
    },
    {
      "cell_type": "code",
      "metadata": {
        "id": "oP0_4pTDT-mO",
        "colab_type": "code",
        "colab": {
          "base_uri": "https://localhost:8080/",
          "height": 35
        },
        "outputId": "a9d6c385-1950-48b5-d52c-025b283d8ee6"
      },
      "source": [
        "candycrushCharacters('abbba!!!aa')"
      ],
      "execution_count": null,
      "outputs": [
        {
          "output_type": "execute_result",
          "data": {
            "application/vnd.google.colaboratory.intrinsic+json": {
              "type": "string"
            },
            "text/plain": [
              "'aaaa'"
            ]
          },
          "metadata": {
            "tags": []
          },
          "execution_count": 3
        }
      ]
    },
    {
      "cell_type": "markdown",
      "metadata": {
        "id": "ed5OETfOhGbW",
        "colab_type": "text"
      },
      "source": [
        "Add one the the array\n",
        "\n",
        "146 = [1, 4, 6]"
      ]
    },
    {
      "cell_type": "code",
      "metadata": {
        "id": "00yGj-0vUBq_",
        "colab_type": "code",
        "colab": {}
      },
      "source": [
        "def plusOne(inputArray):\n",
        "    # adds 1 to the last element in the array\n",
        "    inputArray[len(inputArray)-1] += 1\n",
        "    index = len(inputArray)-1\n",
        "\n",
        "    # while the position that the index is in is 10\n",
        "    while inputArray[index] == 10:\n",
        "        # set the current digit as 0\n",
        "        inputArray[index] = 0\n",
        "        # if the array is 10 in the leftmost, add 0 to the left\n",
        "        # if not shift to the left and add 1 again\n",
        "        if index == 0:\n",
        "            inputArray.insert(0,0)\n",
        "        else:\n",
        "            index -= 1\n",
        "        inputArray[index] += 1\n",
        "    return inputArray"
      ],
      "execution_count": null,
      "outputs": []
    },
    {
      "cell_type": "code",
      "metadata": {
        "id": "KblabqSimV94",
        "colab_type": "code",
        "colab": {
          "base_uri": "https://localhost:8080/",
          "height": 323
        },
        "outputId": "053bd138-c4c9-4959-fafe-d9485a0ba3e7"
      },
      "source": [
        "plusOneTestCases = [[1,2,3],\n",
        "                    [1,9,9],\n",
        "                    [9,9,9],\n",
        "                    [9,0,9],\n",
        "                    [0],\n",
        "                    [9]]\n",
        "for case in plusOneTestCases:\n",
        "    print('Input Array',case)\n",
        "    print('Adding One to the Array results in',plusOne(case))\n",
        "    print()"
      ],
      "execution_count": null,
      "outputs": [
        {
          "output_type": "stream",
          "text": [
            "Input Array [1, 2, 3]\n",
            "Adding One to the Array results in [1, 2, 4]\n",
            "\n",
            "Input Array [1, 9, 9]\n",
            "Adding One to the Array results in [2, 0, 0]\n",
            "\n",
            "Input Array [9, 9, 9]\n",
            "Adding One to the Array results in [1, 0, 0, 0]\n",
            "\n",
            "Input Array [9, 0, 9]\n",
            "Adding One to the Array results in [9, 1, 0]\n",
            "\n",
            "Input Array [0]\n",
            "Adding One to the Array results in [1]\n",
            "\n",
            "Input Array [9]\n",
            "Adding One to the Array results in [1, 0]\n",
            "\n"
          ],
          "name": "stdout"
        }
      ]
    },
    {
      "cell_type": "code",
      "metadata": {
        "id": "hmGGMvF4Z_Q7",
        "colab_type": "code",
        "colab": {}
      },
      "source": [
        ""
      ],
      "execution_count": null,
      "outputs": []
    }
  ]
}