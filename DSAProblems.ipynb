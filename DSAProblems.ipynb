{
  "nbformat": 4,
  "nbformat_minor": 0,
  "metadata": {
    "colab": {
      "name": "AugustHW.ipynb",
      "provenance": []
    },
    "kernelspec": {
      "name": "python3",
      "display_name": "Python 3"
    }
  },
  "cells": [
    {
      "cell_type": "code",
      "metadata": {
        "id": "GXPCRXxHWCvK",
        "colab_type": "code",
        "colab": {}
      },
      "source": [
        "inputList = [[0,0,1,0],\n",
        "             [0,0,0,0],\n",
        "             [0,0,0,0],\n",
        "             [0,0,0,0],\n",
        "             [0,0,0,0]]"
      ],
      "execution_count": 2,
      "outputs": []
    },
    {
      "cell_type": "code",
      "metadata": {
        "id": "QcCIHAdIWVRE",
        "colab_type": "code",
        "colab": {}
      },
      "source": [
        "def leftmostIndex(inputList):\n",
        "    leftIndex = len(inputList[0])\n",
        "\n",
        "    for row in inputList:\n",
        "        if(sum(row) == 0):\n",
        "            continue\n",
        "        for i in range(leftIndex):\n",
        "            if row[i] != 0:\n",
        "                leftIndex = i\n",
        "                break\n",
        "\n",
        "    if leftIndex == len(inputList[0]):\n",
        "        return -1\n",
        "    return leftIndex"
      ],
      "execution_count": 3,
      "outputs": []
    },
    {
      "cell_type": "code",
      "metadata": {
        "id": "PG63l4u1XHz2",
        "colab_type": "code",
        "colab": {
          "base_uri": "https://localhost:8080/",
          "height": 34
        },
        "outputId": "21f3d38d-0d20-46e8-e538-99d35e043f51"
      },
      "source": [
        "leftmostIndex(inputList)"
      ],
      "execution_count": 4,
      "outputs": [
        {
          "output_type": "execute_result",
          "data": {
            "text/plain": [
              "2"
            ]
          },
          "metadata": {
            "tags": []
          },
          "execution_count": 4
        }
      ]
    },
    {
      "cell_type": "code",
      "metadata": {
        "id": "4BJlhYn9XLX_",
        "colab_type": "code",
        "colab": {}
      },
      "source": [
        "def isAlphanumeric(char):\n",
        "    return char.isdigit() or char.isalpha()"
      ],
      "execution_count": 5,
      "outputs": []
    },
    {
      "cell_type": "code",
      "metadata": {
        "id": "QUmFFz8wRBoR",
        "colab_type": "code",
        "colab": {}
      },
      "source": [
        "def isPalindrome(inputString):\n",
        "    if inputString is None or inputString == '' or len(inputString) == 1:\n",
        "        return True\n",
        "    inputString = inputString.lower()\n",
        "    endIndex = len(inputString)-1\n",
        "    for startIndex in range(len(inputString)//2):\n",
        "        while not isAlphanumeric(inputString[endIndex]):\n",
        "            endIndex -= 1\n",
        "        if not isAlphanumeric(inputString[startIndex]):\n",
        "            continue\n",
        "        if inputString[startIndex] != inputString[endIndex]:\n",
        "            return False\n",
        "        endIndex -= 1\n",
        "        if endIndex < startIndex:\n",
        "            break\n",
        "    return True"
      ],
      "execution_count": 6,
      "outputs": []
    },
    {
      "cell_type": "code",
      "metadata": {
        "id": "vPwqL4VmSQNh",
        "colab_type": "code",
        "colab": {
          "base_uri": "https://localhost:8080/",
          "height": 119
        },
        "outputId": "cde3adb2-bfed-4940-fafb-f124cd169f42"
      },
      "source": [
        "testCases = ['racecare', 'racecar', 'race a car',\n",
        "             'Able was I ere I saw Elba',\n",
        "             \"Madam, I'm Adam\", 'Never odd or even.']\n",
        "\n",
        "for case in testCases:\n",
        "    print(case,isPalindrome(case))"
      ],
      "execution_count": 7,
      "outputs": [
        {
          "output_type": "stream",
          "text": [
            "racecare False\n",
            "racecar True\n",
            "race a car False\n",
            "Able was I ere I saw Elba True\n",
            "Madam, I'm Adam True\n",
            "Never odd or even. True\n"
          ],
          "name": "stdout"
        }
      ]
    },
    {
      "cell_type": "code",
      "metadata": {
        "id": "ajash-fsSlaH",
        "colab_type": "code",
        "colab": {}
      },
      "source": [
        "class sortedList:\n",
        "    numbers = []\n",
        "\n",
        "    def _minStart(self, arrays):\n",
        "        minIndex = 0\n",
        "        for i in range(len(arrays)):\n",
        "            if arrays[i][0] < arrays[minIndex][0]:\n",
        "                minIndex = i\n",
        "        min = arrays[minIndex].pop(0)\n",
        "        return min, arrays\n",
        "    \n",
        "    def __init__(self, **arrays):\n",
        "        arrays = list(arrays.values())\n",
        "        while len(arrays) > 0:\n",
        "            min, arrays = self._minStart(arrays)\n",
        "            self.numbers.append(min)\n",
        "            arrays = [array for array in arrays if len(array) > 0]\n",
        "        self.index = 0\n",
        "    \n",
        "    def next(self):\n",
        "        self.index += 1\n",
        "        return self.numbers[self.index-1]\n",
        "    \n",
        "    def hasNext(self):\n",
        "        return self.index != len(self.numbers)"
      ],
      "execution_count": 8,
      "outputs": []
    },
    {
      "cell_type": "code",
      "metadata": {
        "id": "onmCTiLFWIIv",
        "colab_type": "code",
        "colab": {
          "base_uri": "https://localhost:8080/",
          "height": 238
        },
        "outputId": "1c64c62f-086d-415d-d859-c8b43f7e87aa"
      },
      "source": [
        "list1 = [4,13,17,21,85,93]\n",
        "list2 = [2,9]\n",
        "list3 = [1,5,7,18,33]\n",
        "\n",
        "newList = sortedList(list1 = [4,13,17,21,85,93],\n",
        "                    list2 = [2,9],\n",
        "                    list3 = [1,5,7,18,33])\n",
        "\n",
        "while newList.hasNext():\n",
        "    print(newList.next())"
      ],
      "execution_count": 9,
      "outputs": [
        {
          "output_type": "stream",
          "text": [
            "1\n",
            "2\n",
            "4\n",
            "5\n",
            "7\n",
            "9\n",
            "13\n",
            "17\n",
            "18\n",
            "21\n",
            "33\n",
            "85\n",
            "93\n"
          ],
          "name": "stdout"
        }
      ]
    },
    {
      "cell_type": "code",
      "metadata": {
        "id": "scjuJU5-hvX6",
        "colab_type": "code",
        "colab": {}
      },
      "source": [
        "class Node:\n",
        "    def __init__(self, dataval=None):\n",
        "        self.dataval = dataval\n",
        "        self.nextval = None\n",
        "\n",
        "class LinkedList:\n",
        "    def __init__(self):\n",
        "        self.headval = None\n",
        "\n",
        "    def listprint(self):\n",
        "        printval = self.headval\n",
        "        while printval is not None:\n",
        "            print (printval.dataval,' ',end='')\n",
        "            printval = printval.nextval\n",
        "        print()"
      ],
      "execution_count": 10,
      "outputs": []
    },
    {
      "cell_type": "code",
      "metadata": {
        "id": "RLJ4-GJSntPC",
        "colab_type": "code",
        "colab": {}
      },
      "source": [
        "def removeVal(lList, val):\n",
        "    head = lList.headval\n",
        "    while head.dataval == val:\n",
        "        lList.headval = head.nextval\n",
        "    while head.nextval is not None:\n",
        "        if head.nextval.dataval == val:\n",
        "            head.nextval  = head.nextval.nextval\n",
        "        else:\n",
        "            head = head.nextval"
      ],
      "execution_count": 11,
      "outputs": []
    },
    {
      "cell_type": "code",
      "metadata": {
        "id": "mZu1fws37oiq",
        "colab_type": "code",
        "colab": {
          "base_uri": "https://localhost:8080/",
          "height": 85
        },
        "outputId": "f2c95b5f-d7dd-4cb7-de5d-335737aca571"
      },
      "source": [
        "from random import randint\n",
        "\n",
        "testList = LinkedList()\n",
        "testList.headval = Node(0)\n",
        "iterator = testList.headval\n",
        "for i in [randint(0,10) for _ in range(10)]:\n",
        "    iterator.nextval = Node(i)\n",
        "    iterator = iterator.nextval\n",
        "\n",
        "print('The list is:')\n",
        "testList.listprint()\n",
        "remove = randint(0,10)\n",
        "print('All',remove,'will be removed')\n",
        "removeVal(testList,remove)\n",
        "testList.listprint()"
      ],
      "execution_count": 12,
      "outputs": [
        {
          "output_type": "stream",
          "text": [
            "The list is:\n",
            "0  7  6  6  5  9  5  1  9  0  8  \n",
            "All 1 will be removed\n",
            "0  7  6  6  5  9  5  9  0  8  \n"
          ],
          "name": "stdout"
        }
      ]
    },
    {
      "cell_type": "code",
      "metadata": {
        "id": "QB7Psn5c1GcG",
        "colab_type": "code",
        "colab": {}
      },
      "source": [
        "def listProductSolution1(inputList):\n",
        "    length = len(inputList)\n",
        "    if inputList is None or length < 2:\n",
        "        return inputList\n",
        "    \n",
        "    left, right, answer = [0]*length, [0]*length, [0]*length\n",
        "\n",
        "    left[0] = 1\n",
        "    right[length - 1] = 1\n",
        "\n",
        "    for i in range(1, length):\n",
        "        left[i] = inputList[i - 1] * left[i - 1]\n",
        "    \n",
        "    for i in reversed(range(length - 1)): \n",
        "        right[i] = inputList[i + 1] * right[i + 1]\n",
        "        \n",
        "    for i in range(length):\n",
        "        answer[i] = left[i] * right[i]\n",
        "        \n",
        "    return answer"
      ],
      "execution_count": 13,
      "outputs": []
    },
    {
      "cell_type": "code",
      "metadata": {
        "id": "W2ftBHaJGsZj",
        "colab_type": "code",
        "colab": {
          "base_uri": "https://localhost:8080/",
          "height": 170
        },
        "outputId": "dc5180e2-d4eb-4de9-d002-cdb8b4941b95"
      },
      "source": [
        "testCaseLists = [[2,4,6,8],\n",
        "                 [2,3,4,5],\n",
        "                 [1,3,5,7,9]]\n",
        "\n",
        "for case in testCaseLists:\n",
        "     print('The array is',case)\n",
        "     print('The product array is',listProductSolution1(case))\n",
        "     print()"
      ],
      "execution_count": 14,
      "outputs": [
        {
          "output_type": "stream",
          "text": [
            "The array is [2, 4, 6, 8]\n",
            "The product array is [192, 96, 64, 48]\n",
            "\n",
            "The array is [2, 3, 4, 5]\n",
            "The product array is [60, 40, 30, 24]\n",
            "\n",
            "The array is [1, 3, 5, 7, 9]\n",
            "The product array is [945, 315, 189, 135, 105]\n",
            "\n"
          ],
          "name": "stdout"
        }
      ]
    },
    {
      "cell_type": "code",
      "metadata": {
        "id": "WNABAEQPXmS1",
        "colab_type": "code",
        "colab": {}
      },
      "source": [
        "def listProductSolution2(inputList):\n",
        "    if inputList is None or len(inputList) < 2:\n",
        "        return inputList\n",
        "\n",
        "    answer = [0]*len(inputList)\n",
        "    answer[0] = 1\n",
        "\n",
        "    for i in range(1, len(inputList)):\n",
        "        answer[i] = inputList[i - 1] * answer[i - 1]\n",
        "    \n",
        "    rightward = 1\n",
        "    for i in reversed(range(len(inputList))):\n",
        "        answer[i] *= rightward\n",
        "        rightward *= inputList[i]\n",
        "        \n",
        "    return answer"
      ],
      "execution_count": 15,
      "outputs": []
    },
    {
      "cell_type": "code",
      "metadata": {
        "id": "6uLlcKndiYud",
        "colab_type": "code",
        "colab": {
          "base_uri": "https://localhost:8080/",
          "height": 170
        },
        "outputId": "8eb1e858-c7b7-4c9d-b0b4-14c0acd1fa60"
      },
      "source": [
        "for case in testCaseLists:\n",
        "     print('The array is',case)\n",
        "     print('The product array is',listProductSolution2(case))\n",
        "     print()"
      ],
      "execution_count": 16,
      "outputs": [
        {
          "output_type": "stream",
          "text": [
            "The array is [2, 4, 6, 8]\n",
            "The product array is [192, 96, 64, 48]\n",
            "\n",
            "The array is [2, 3, 4, 5]\n",
            "The product array is [60, 40, 30, 24]\n",
            "\n",
            "The array is [1, 3, 5, 7, 9]\n",
            "The product array is [945, 315, 189, 135, 105]\n",
            "\n"
          ],
          "name": "stdout"
        }
      ]
    },
    {
      "cell_type": "code",
      "metadata": {
        "id": "5ESRhIHLilhb",
        "colab_type": "code",
        "colab": {
          "base_uri": "https://localhost:8080/",
          "height": 85
        },
        "outputId": "4fe69aba-1fa2-42e2-a5b0-e660b389f5e7"
      },
      "source": [
        "list1 = [2,3,4,5]\n",
        "list4 = [1,2]\n",
        "for i,j in zip(list1,list4):\n",
        "    print(i)\n",
        "    print(j)"
      ],
      "execution_count": 17,
      "outputs": [
        {
          "output_type": "stream",
          "text": [
            "2\n",
            "1\n",
            "3\n",
            "2\n"
          ],
          "name": "stdout"
        }
      ]
    },
    {
      "cell_type": "code",
      "metadata": {
        "id": "5WdDFjyjo4Kh",
        "colab_type": "code",
        "colab": {}
      },
      "source": [
        "def orderAlienAlphabet(inputArray: list, alphabet: str) -> bool:\n",
        "    for i in range(len(inputArray)-1):\n",
        "        for char1, char2 in zip(inputArray[i],inputArray[i+1]):\n",
        "            if alphabet.index(char1) > alphabet.index(char2):\n",
        "                return False\n",
        "            elif char1 == char2:\n",
        "                continue\n",
        "            break\n",
        "        if len(inputArray[i]) > len(inputArray[i+1]):\n",
        "            return False\n",
        "    return True"
      ],
      "execution_count": 1,
      "outputs": []
    },
    {
      "cell_type": "code",
      "metadata": {
        "id": "ZP0w0tDpK1BB",
        "colab_type": "code",
        "colab": {
          "base_uri": "https://localhost:8080/",
          "height": 221
        },
        "outputId": "2ba4d65d-fd2c-41e5-a890-486bbf1cd6cc"
      },
      "source": [
        "alphabetTestCases = {\"hlabcdefgijkmnopqrstuvwxyz\":[\"hello\",\"leetcode\"],\n",
        "                     \"worldabcefghijkmnpqstuvxyz\":[\"word\",\"world\",\"row\"],\n",
        "                     \"abcdefghijklmnopqrstuvwxyz\":[\"apple\",\"app\"]}\n",
        "\n",
        "for alphabet, array in alphabetTestCases.items():\n",
        "    print('The words are:',array)\n",
        "    print('The alphabet is:',alphabet)\n",
        "    print('The words are ordered:',orderAlienAlphabet(array, alphabet=alphabet))\n",
        "    print()"
      ],
      "execution_count": 22,
      "outputs": [
        {
          "output_type": "stream",
          "text": [
            "The words are: ['hello', 'leetcode']\n",
            "The alphabet is: hlabcdefgijkmnopqrstuvwxyz\n",
            "The words are ordered: True\n",
            "\n",
            "The words are: ['word', 'world', 'row']\n",
            "The alphabet is: worldabcefghijkmnpqstuvxyz\n",
            "The words are ordered: False\n",
            "\n",
            "The words are: ['apple', 'app']\n",
            "The alphabet is: abcdefghijklmnopqrstuvwxyz\n",
            "The words are ordered: False\n",
            "\n"
          ],
          "name": "stdout"
        }
      ]
    },
    {
      "cell_type": "code",
      "metadata": {
        "id": "R8R8kCFmQFBF",
        "colab_type": "code",
        "colab": {}
      },
      "source": [
        "def candycrushCharacters(inputStr:str) -> str:\n",
        "    if len(inputStr) < 3:\n",
        "        return inputStr\n",
        "    newStr = ''\n",
        "    index = 0\n",
        "    while index < len(inputStr)-2:\n",
        "        if inputStr[index] == inputStr[index+1] and\\\n",
        "           inputStr[index] == inputStr[index+2]:\n",
        "            inputStr = inputStr[0:index]+inputStr[index+3:]\n",
        "        else:\n",
        "            newStr += inputStr[index]\n",
        "            index += 1\n",
        "    return newStr+inputStr[index:]"
      ],
      "execution_count": 36,
      "outputs": []
    },
    {
      "cell_type": "code",
      "metadata": {
        "id": "oP0_4pTDT-mO",
        "colab_type": "code",
        "colab": {
          "base_uri": "https://localhost:8080/",
          "height": 35
        },
        "outputId": "0c7d0f7a-484d-42c9-9bc7-513a2bd573dc"
      },
      "source": [
        "candycrushCharacters('abba!!!aa')"
      ],
      "execution_count": 43,
      "outputs": [
        {
          "output_type": "execute_result",
          "data": {
            "application/vnd.google.colaboratory.intrinsic+json": {
              "type": "string"
            },
            "text/plain": [
              "'abbaaa'"
            ]
          },
          "metadata": {
            "tags": []
          },
          "execution_count": 43
        }
      ]
    },
    {
      "cell_type": "code",
      "metadata": {
        "id": "00yGj-0vUBq_",
        "colab_type": "code",
        "colab": {}
      },
      "source": [
        "def plusOne(inputArray):\n",
        "    for i in reversed(range(len(inputArray))):\n",
        "        inputArray[i] += 1\n",
        "        if inputArray[i] == 10:\n",
        "            if i \n",
        "            inputArray[]"
      ],
      "execution_count": 48,
      "outputs": []
    },
    {
      "cell_type": "code",
      "metadata": {
        "id": "KblabqSimV94",
        "colab_type": "code",
        "colab": {
          "base_uri": "https://localhost:8080/",
          "height": 68
        },
        "outputId": "3c50e2e0-572c-4436-bd11-cb3c7233aa96"
      },
      "source": [
        "plusOne([1,2,3])"
      ],
      "execution_count": 49,
      "outputs": [
        {
          "output_type": "stream",
          "text": [
            "3\n",
            "2\n",
            "1\n"
          ],
          "name": "stdout"
        }
      ]
    },
    {
      "cell_type": "code",
      "metadata": {
        "id": "xAl9OkaHmY44",
        "colab_type": "code",
        "colab": {}
      },
      "source": [
        ""
      ],
      "execution_count": null,
      "outputs": []
    }
  ]
}